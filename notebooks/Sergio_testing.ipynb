{
 "cells": [
  {
   "cell_type": "code",
   "execution_count": 81,
   "id": "minimal-despite",
   "metadata": {},
   "outputs": [],
   "source": [
    "# coding: utf-8\n",
    "\n",
    "import time\n",
    "import board\n",
    "import neopixel\n",
    "\n",
    "class Strip(object):\n",
    "    PIXELS_ORDER = neopixel.RGB\n",
    "    def __init__(self, size=50, pin=board.D18):\n",
    "        self.size = size\n",
    "        self.pin = pin\n",
    "        self.pixels = neopixel.NeoPixel(pin=pin, n=size, pixel_order=self.PIXELS_ORDER)\n",
    "\n",
    "    def reset_lights(self):\n",
    "        self.pixels.fill((0, 0, 0))\n",
    "\n",
    "    def monochrome(self, color=(255, 0, 0), delay=0.05, reset_before=True):\n",
    "        if reset_before:\n",
    "            self.reset_lights()\n",
    "\n",
    "        if delay == 0:\n",
    "            self.pixels.fill(color)\n",
    "        else:\n",
    "            for i in range(self.size):\n",
    "                self.pixels[i] = color\n",
    "                time.sleep(delay)\n",
    "\n",
    "    def right_left_right(self, color1=(255, 0, 0), color2=(0, 0, 255), delay=0.05):\n",
    "        self.reset_lights()\n",
    "        for i in range(self.size):\n",
    "            self.pixels[i] = color1\n",
    "            time.sleep(delay)\n",
    "        for i in reversed(range(self.size)):\n",
    "            self.pixels[i] = color2\n",
    "            time.sleep(delay)\n",
    "\n",
    "    def draw_fadeout_line(self, center, length, central_color=(255, 255, 255)):\n",
    "        strip = neopixel.NeoPixel(self.pin, self.size, pixel_order=self.PIXELS_ORDER, auto_write=False)\n",
    "\n",
    "        radio = int(length/2) + 1\n",
    "        color_step = [x/radio for x in central_color]\n",
    "\n",
    "        strip[center] = central_color\n",
    "        for offset in range(1, 1 + radio):\n",
    "            color = []\n",
    "            for i, j in zip(central_color, color_step):\n",
    "                color.append(i - (offset * j))\n",
    "            pos = center - offset\n",
    "            if (pos >= 0):\n",
    "                strip[pos] = color\n",
    "\n",
    "            pos = center + offset\n",
    "            if (pos < self.size):\n",
    "                strip[pos] = color\n",
    "        strip.show()\n",
    "\n",
    "    def move_with_tail(self, delay=0.1, length=5, color=(255, 255, 255), reverse=False):\n",
    "        iterator = reversed(range(self.size)) if reverse else range(self.size)\n",
    "        for i in iterator:\n",
    "            self.draw_fadeout_line(i, length, color)\n",
    "            time.sleep(delay)\n",
    "\n",
    "    def go_and_back(self, delay=0.05, length=5, color=(255, 255, 255), times=10):\n",
    "        self.reset_lights()\n",
    "        for _ in range(times):\n",
    "            self.move_with_tail(delay, length, color)\n",
    "            self.move_with_tail(delay, length, color, True)"
   ]
  },
  {
   "cell_type": "code",
   "execution_count": 82,
   "id": "thirty-spanish",
   "metadata": {},
   "outputs": [
    {
     "name": "stdout",
     "output_type": "stream",
     "text": [
      "10.655080795288086\n"
     ]
    }
   ],
   "source": [
    "import time\n",
    "strip = Strip(size=50)\n",
    "start = time.time()\n",
    "strip.go_and_back(delay=0.1, length=8, color=(255, 0, 0), times=1)\n",
    "end = time.time()\n",
    "print(end - start)\n"
   ]
  },
  {
   "cell_type": "code",
   "execution_count": 80,
   "id": "victorian-resource",
   "metadata": {},
   "outputs": [
    {
     "name": "stdout",
     "output_type": "stream",
     "text": [
      "[0, 0, 255]\n"
     ]
    }
   ],
   "source": [
    "pixels = neopixel.NeoPixel(pin=board.D18, n=50, pixel_order=\"RGB\")#neopixel.RGB)\n",
    "pixels[12] = (0, 0, 255)\n",
    "print(pixels[12])\n",
    "pixels[12] = (255, 0, 0)\n",
    "#print(pixels[12])\n",
    "#pixels[12] = (0, 255, 0)\n",
    "#print(pixels[12])\n"
   ]
  },
  {
   "cell_type": "code",
   "execution_count": 35,
   "id": "ordered-criterion",
   "metadata": {},
   "outputs": [
    {
     "data": {
      "text/plain": [
       "[0, 0, 155]"
      ]
     },
     "execution_count": 35,
     "metadata": {},
     "output_type": "execute_result"
    }
   ],
   "source": [
    "central_color = [0, 0, 255]\n",
    "color_step = [0,0, 25]\n",
    "offset = 4\n",
    "\n",
    "color = []\n",
    "for i, j in zip(central_color, color_step):\n",
    "    color.append(i - (offset * j))\n",
    "    \n",
    "#color = [elem * offset for elem in color_step]\n",
    "#color = \n",
    "#color = central_color - (offset * color_step)\n",
    "color"
   ]
  }
 ],
 "metadata": {
  "kernelspec": {
   "display_name": "Python 3",
   "language": "python",
   "name": "python3"
  },
  "language_info": {
   "codemirror_mode": {
    "name": "ipython",
    "version": 3
   },
   "file_extension": ".py",
   "mimetype": "text/x-python",
   "name": "python",
   "nbconvert_exporter": "python",
   "pygments_lexer": "ipython3",
   "version": "3.7.3"
  }
 },
 "nbformat": 4,
 "nbformat_minor": 5
}
